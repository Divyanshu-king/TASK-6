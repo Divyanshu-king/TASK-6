{
 "cells": [
  {
   "cell_type": "code",
   "execution_count": 1,
   "metadata": {},
   "outputs": [
    {
     "name": "stderr",
     "output_type": "stream",
     "text": [
      "<>:14: SyntaxWarning: \"is\" with a literal. Did you mean \"==\"?\n",
      "<>:14: SyntaxWarning: \"is\" with a literal. Did you mean \"==\"?\n",
      "<ipython-input-1-43354a78a0b9>:14: SyntaxWarning: \"is\" with a literal. Did you mean \"==\"?\n",
      "  if img is ():\n"
     ]
    },
    {
     "name": "stdout",
     "output_type": "stream",
     "text": [
      "Dataset Generated\n"
     ]
    }
   ],
   "source": [
    "#loading pre-trained face detecting model\n",
    "import cv2\n",
    "import numpy as np\n",
    "face_det = cv2.CascadeClassifier(\"haarcascade_frontalface_default.xml\")\n",
    "\n",
    "#Activating my webcam\n",
    "cap = cv2.VideoCapture(0)  \n",
    "\n",
    "#defining a function to detect and extract cropped faces\n",
    "def face_ext(image):\n",
    "    img_gray = cv2.cvtColor(image,cv2.COLOR_BGR2GRAY)\n",
    "    img = face_det.detectMultiScale(img_gray, 1.3, 5)\n",
    "    \n",
    "    if img is ():\n",
    "        return None\n",
    "    \n",
    "    for (x,y,w,h) in img:\n",
    "        crop_face = image[y:y+h, x:x+w]\n",
    "    \n",
    "    return crop_face\n",
    "  \n",
    "#Creating dataset for training model for face detection\n",
    "i=0\n",
    "Training_Data, Labels = [], []\n",
    "while i<100:\n",
    "    ret, photo = cap.read()\n",
    "    if face_ext(photo) is not None:\n",
    "        face = cv2.resize(face_ext(photo),(200, 200))\n",
    "        face = cv2.cvtColor(face,cv2.COLOR_BGR2GRAY)\n",
    "        \n",
    "        Training_Data.append(np.asarray(face, dtype=np.uint8))\n",
    "        Labels.append(i)\n",
    "        i += 1\n",
    "        \n",
    "       \n",
    "        \n",
    "        #displaying the dataset\n",
    "        cv2.putText(face, str(i), (50, 50), cv2.FONT_HERSHEY_PLAIN, 1, (0,255,0), 2)\n",
    "        cv2.imshow('Gathering Training Data', face)\n",
    "    else:\n",
    "        print(\"No face found\")\n",
    "        pass\n",
    "    if cv2.waitKey(1)==13:\n",
    "        break\n",
    "cap.release()\n",
    "cv2.destroyAllWindows()\n",
    "Labels = np.asarray(Labels, dtype=np.int32)\n",
    "print(\"Dataset Generated\")\n",
    "    \n",
    "        \n",
    "\n"
   ]
  },
  {
   "cell_type": "code",
   "execution_count": 2,
   "metadata": {},
   "outputs": [
    {
     "name": "stdout",
     "output_type": "stream",
     "text": [
      "Model trained sucessefully\n"
     ]
    }
   ],
   "source": [
    "#Training our face detection model\n",
    "model  = cv2.face_LBPHFaceRecognizer.create() \n",
    "model.train(np.asarray(Training_Data), np.asarray(Labels))\n",
    "print(\"Model trained sucessefully\")\n"
   ]
  },
  {
   "cell_type": "code",
   "execution_count": 3,
   "metadata": {},
   "outputs": [
    {
     "name": "stderr",
     "output_type": "stream",
     "text": [
      "<>:11: SyntaxWarning: \"is\" with a literal. Did you mean \"==\"?\n",
      "<>:11: SyntaxWarning: \"is\" with a literal. Did you mean \"==\"?\n",
      "<ipython-input-3-448a4f0f0ff2>:11: SyntaxWarning: \"is\" with a literal. Did you mean \"==\"?\n",
      "  if faces is ():\n"
     ]
    },
    {
     "name": "stdout",
     "output_type": "stream",
     "text": [
      "launching aws instance for you.....\n"
     ]
    }
   ],
   "source": [
    "#Testing face recognition model \n",
    "import os\n",
    "import subprocess\n",
    "import time\n",
    "\n",
    "def face_detector(img, size=0.5):\n",
    "    \n",
    "    # Convert image to grayscale\n",
    "    gray = cv2.cvtColor(img,cv2.COLOR_BGR2GRAY)\n",
    "    faces = face_det.detectMultiScale(gray, 1.3, 5)\n",
    "    if faces is ():\n",
    "        return img, []\n",
    "    \n",
    "    \n",
    "    for (x,y,w,h) in faces:\n",
    "        cv2.rectangle(img,(x,y),(x+w,y+h),(0,255,255),2)\n",
    "        roi = img[y:y+h, x:x+w]\n",
    "        roi = cv2.resize(roi, (200, 200))\n",
    "    return img, roi\n",
    "\n",
    "\n",
    "# Open Webcam\n",
    "cap = cv2.VideoCapture(0)\n",
    "\n",
    "while True:\n",
    "\n",
    "    ret, frame = cap.read()\n",
    "    image, face = face_detector(frame)\n",
    "    try:\n",
    "        face = cv2.cvtColor(face, cv2.COLOR_BGR2GRAY)\n",
    "\n",
    "        results = model.predict(face)\n",
    "        \n",
    "        if results[1] < 500:\n",
    "            confidence = int( 100 * (1 - (results[1])/400) )\n",
    "            disp_text = str(confidence) + '% Confident it is User'\n",
    "            \n",
    "        cv2.putText(image, disp_text, (100, 120), cv2.FONT_HERSHEY_COMPLEX, 1, (255,100,100), 2)\n",
    "        \n",
    "        if confidence > 80:\n",
    "            cv2.putText(image, \"Hey Divyanshu\", (250, 450), cv2.FONT_HERSHEY_COMPLEX, 1, (0,100,255), 2)\n",
    "            cv2.imshow('Face Recognition', image )\n",
    "            \n",
    "            #cv2.putText(image, \"Hey anuj\", (250, 450), cv2.FONT_HERSHEY_COMPLEX, 1, (0,255,255), 2)\n",
    "            #cv2.imshow('Face Recognition', image )\n",
    "            \n",
    "            print(\"launching aws instance for you.....\")\n",
    "            \n",
    "            os.system(\"aws ec2 create-key-pair --key-name NewKey\")\n",
    "            \n",
    "            def instance_launch():\n",
    "                i_id = subprocess.getoutput(\"aws ec2 run-instances  --region ap-south-1  --image-id ami-0e5d82cae7458738b  --instance-type t2.micro --count 1  --key-name NewKey  --query Instances[*].[InstanceId] --output text\")\n",
    "                print(\"EC2 Instance with instance id : {} created successfully\".format(i_id))\n",
    "\n",
    "            def volume_creation():\n",
    "                az = input(\"Enter the availability zone of running instance.. : \")\n",
    "                v_id = subprocess.getoutput(\"aws ec2 create-volume  --region ap-south-1  --volume-type gp2 --size 5 --availability-zone \" + az + \" --query VolumeId --output text\")\n",
    "                print(\"Created 5GB EBS Volume with volume id : {} created\".format(v_id))\n",
    "                time.sleep(15)\n",
    "                \n",
    "                \n",
    "            def attach():\n",
    "                i_id = input(\"Enter instance id: \")\n",
    "                v_id = input(\"Enter volume id: \")\n",
    "                os.system(\"aws ec2 attach-volume --device /dev/xvdf --instance-id  \" + i_id +\" --volume-id \" + v_id + \" \")\n",
    "                print(\"EBS volume Attached successfully to the newly created instance\")\n",
    "\n",
    "            \n",
    "            break\n",
    "           \n",
    "        \n",
    "        else:\n",
    "            cv2.putText(image, \"Not sure who you are\", (250, 450), cv2.FONT_HERSHEY_COMPLEX, 1, (0,100,255), 2)\n",
    "            cv2.imshow('Face Recognition', image )\n",
    "\n",
    "    except:\n",
    "        cv2.putText(image, \"No Face Detected\", (220, 120) , cv2.FONT_HERSHEY_COMPLEX, 1, (0,111,255), 2)\n",
    "        cv2.putText(image, \"Looking for a face\", (250, 450), cv2.FONT_HERSHEY_COMPLEX, 1, (0,100,255), 2)\n",
    "        cv2.imshow('Face Recognition', image )\n",
    "        pass\n",
    "        \n",
    "    if cv2.waitKey(1) == 13:\n",
    "        break\n",
    "    \n",
    "        \n",
    "cap.release()\n",
    "cv2.destroyAllWindows()\n",
    "\n",
    "\n",
    "#Launching an ec2 instance and a 5GB instance volume if second face is recognized:\n"
   ]
  },
  {
   "cell_type": "code",
   "execution_count": 4,
   "metadata": {},
   "outputs": [
    {
     "name": "stdout",
     "output_type": "stream",
     "text": [
      "EC2 Instance with instance id : i-003762526c36165c5 created successfully\n"
     ]
    }
   ],
   "source": [
    "instance_launch()\n",
    "#attaching the EBS Volume to the EC2 Instance we just launched\n",
    "#os.system(\"aws ec2 attach-volume --volume-id vol- --instance-id  --device /dev/sda1\")"
   ]
  },
  {
   "cell_type": "code",
   "execution_count": 5,
   "metadata": {},
   "outputs": [
    {
     "name": "stdout",
     "output_type": "stream",
     "text": [
      "Enter the availability zone of running instance.. : ap-south-1a\n",
      "Created 5GB EBS Volume with volume id : vol-0d225d898b9ab5306 created\n"
     ]
    }
   ],
   "source": [
    "volume_creation()"
   ]
  },
  {
   "cell_type": "code",
   "execution_count": 6,
   "metadata": {},
   "outputs": [
    {
     "name": "stdout",
     "output_type": "stream",
     "text": [
      "Enter instance id: i-003762526c36165c5\n",
      "Enter volume id: vol-0d225d898b9ab5306\n",
      "EBS volume Attached successfully to the newly created instance\n"
     ]
    }
   ],
   "source": [
    "attach()"
   ]
  },
  {
   "cell_type": "code",
   "execution_count": 7,
   "metadata": {},
   "outputs": [
    {
     "ename": "SyntaxError",
     "evalue": "invalid syntax (<ipython-input-7-5ec101f630f8>, line 1)",
     "output_type": "error",
     "traceback": [
      "\u001b[1;36m  File \u001b[1;32m\"<ipython-input-7-5ec101f630f8>\"\u001b[1;36m, line \u001b[1;32m1\u001b[0m\n\u001b[1;33m    thank you\u001b[0m\n\u001b[1;37m          ^\u001b[0m\n\u001b[1;31mSyntaxError\u001b[0m\u001b[1;31m:\u001b[0m invalid syntax\n"
     ]
    }
   ],
   "source": [
    "thank you "
   ]
  }
 ],
 "metadata": {
  "kernelspec": {
   "display_name": "Python 3",
   "language": "python",
   "name": "python3"
  },
  "language_info": {
   "codemirror_mode": {
    "name": "ipython",
    "version": 3
   },
   "file_extension": ".py",
   "mimetype": "text/x-python",
   "name": "python",
   "nbconvert_exporter": "python",
   "pygments_lexer": "ipython3",
   "version": "3.8.8"
  }
 },
 "nbformat": 4,
 "nbformat_minor": 2
}
